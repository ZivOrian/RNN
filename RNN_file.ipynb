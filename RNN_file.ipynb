{
 "cells": [
  {
   "cell_type": "code",
   "execution_count": null,
   "metadata": {},
   "outputs": [],
   "source": [
    "import torch\n",
    "from torch import nn, optim, autograd as grad\n",
    "from torch.utils.data import DataLoader, random_split, dataset\n",
    "import pandas as pd\n",
    "import numpy as np\n",
    "import matplotlib.pyplot as plt"
   ]
  },
  {
   "cell_type": "code",
   "execution_count": null,
   "metadata": {},
   "outputs": [],
   "source": [
    "dir_path = r\"C:\\Users\\orian\\Desktop\\My Coding Files\\RNN\"\n",
    "dataset = pd.read_csv(dir_path+r\"\\ChatGPT_Reviews.csv\")\n",
    "\n",
    "train_len = round(len(dataset)*0.9)\n",
    "train_ds_csv, test_ds_csv = random_split(\n",
    "    dataset=dataset,lengths=[train_len, len(dataset)-train_len])\n",
    "\n",
    "dataset_dataloader = DataLoader(train_ds_csv, shuffle= True)\n",
    "div = 0.9 #Division percentage\n",
    "test_ds, train_ds = random_split(dataset_dataloader, \n",
    "                lengths=[round(div*len(dataset_dataloader)),round((1-div)*len(dataset_dataloader))])\n",
    "\n",
    "print(train_ds[0])\n"
   ]
  }
 ],
 "metadata": {
  "kernelspec": {
   "display_name": "Python 3",
   "language": "python",
   "name": "python3"
  },
  "language_info": {
   "codemirror_mode": {
    "name": "ipython",
    "version": 3
   },
   "file_extension": ".py",
   "mimetype": "text/x-python",
   "name": "python",
   "nbconvert_exporter": "python",
   "pygments_lexer": "ipython3",
   "version": "3.11.8"
  }
 },
 "nbformat": 4,
 "nbformat_minor": 2
}
